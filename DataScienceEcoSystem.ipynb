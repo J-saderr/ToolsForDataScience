{
  "nbformat": 4,
  "nbformat_minor": 0,
  "metadata": {
    "colab": {
      "provenance": [],
      "authorship_tag": "ABX9TyNE94VHSHlTaJzouiBNorSz",
      "include_colab_link": true
    },
    "kernelspec": {
      "name": "python3",
      "display_name": "Python 3"
    },
    "language_info": {
      "name": "python"
    }
  },
  "cells": [
    {
      "cell_type": "markdown",
      "metadata": {
        "id": "view-in-github",
        "colab_type": "text"
      },
      "source": [
        "<a href=\"https://colab.research.google.com/github/J-saderr/ToolsForDataScience/blob/main/DataScienceEcoSystem.ipynb\" target=\"_parent\"><img src=\"https://colab.research.google.com/assets/colab-badge.svg\" alt=\"Open In Colab\"/></a>"
      ]
    },
    {
      "cell_type": "markdown",
      "source": [
        "**Exercise 2: Create markdown cell with title of the**"
      ],
      "metadata": {
        "id": "Q-NwEeOE1NcU"
      }
    },
    {
      "cell_type": "markdown",
      "source": [
        "<h1>Data Science Tools and Ecosystem</h1>"
      ],
      "metadata": {
        "id": "i7kJ1IuChO-x"
      }
    },
    {
      "cell_type": "markdown",
      "source": [
        "**Exercise 3 - Create a markdown cell for an introduction**"
      ],
      "metadata": {
        "id": "pl9wEcrb1SM-"
      }
    },
    {
      "cell_type": "markdown",
      "source": [
        "In this notebook, Data Science Tools and Ecosystem are summarized."
      ],
      "metadata": {
        "id": "WfrANahOxE5L"
      }
    },
    {
      "cell_type": "markdown",
      "source": [
        "**Objective**\n",
        "<ul>\n",
        "    <li>List popular languages that Data Scientists use.</li>\n",
        "    <li>List commonly used libraries used by Data Scientists.</li>\n",
        "    <li>Comment on Data Science tools.</li>\n",
        "</ul>"
      ],
      "metadata": {
        "id": "UCubOmD4lWRT"
      }
    },
    {
      "cell_type": "markdown",
      "source": [
        "**Exercise 4 - Create a markdown cell to list data science languages**"
      ],
      "metadata": {
        "id": "gdoH4URo1jVR"
      }
    },
    {
      "cell_type": "markdown",
      "source": [
        "List popular languages for Data Science\n",
        "1. Python\n",
        "1. R\n",
        "1. SQL"
      ],
      "metadata": {
        "id": "cq1vD1YQzykl"
      }
    },
    {
      "cell_type": "markdown",
      "source": [
        "**Exercise 5 - Create a markdown cell to list data science libraries**"
      ],
      "metadata": {
        "id": "1Ib-WeEv1lpO"
      }
    },
    {
      "cell_type": "markdown",
      "source": [
        "Some of the libraries of Data Science:\n",
        "1. Pandas\n",
        "1. Numpy\n",
        "1. Seaborn"
      ],
      "metadata": {
        "id": "gPGk15UahwSK"
      }
    },
    {
      "cell_type": "markdown",
      "source": [
        "**Exercise 6 - Create a markdown cell with a table of Data Science tools**"
      ],
      "metadata": {
        "id": "baeijjav1p7t"
      }
    },
    {
      "cell_type": "markdown",
      "source": [
        "Data Science Tools:\n",
        "\n",
        "<table style=\"width:100%\">\n",
        "  <tr>\n",
        "    <th>Data Science Tools</th>\n",
        "    <th></th>\n",
        "    <th></th>\n",
        "  </tr>\n",
        "  <tr>\n",
        "    <td>RStudio</td>\n",
        "    <td></td>\n",
        "    <td></td>\n",
        "  </tr>\n",
        "  <tr>\n",
        "    <td>Apache Spark</td>\n",
        "    <td></td>\n",
        "    <td></td>\n",
        "  </tr>\n",
        "  <tr>\n",
        "    <td>BigML</td>\n",
        "    <td></td>\n",
        "    <td></td>\n",
        "  </tr>\n",
        "</table>"
      ],
      "metadata": {
        "id": "au1UtjI3ybbh"
      }
    },
    {
      "cell_type": "markdown",
      "source": [
        "**Exercise 7 - Create a markdown cell introducing arithmetic expression examples**"
      ],
      "metadata": {
        "id": "dtA85H6y1tkf"
      }
    },
    {
      "cell_type": "markdown",
      "source": [
        "\n",
        "<h3>Below are a few examples of evaluating arithmetic expressions in Python</h3>\n"
      ],
      "metadata": {
        "id": "XFH4uds1iLZj"
      }
    },
    {
      "cell_type": "markdown",
      "source": [
        "**Exercise 8 - Create a code cell to multiply and add numbers**"
      ],
      "metadata": {
        "id": "vUWHNxdU1x6o"
      }
    },
    {
      "cell_type": "code",
      "source": [
        "(3*4)+5\n",
        "# This will convert 200 minutes to hours by diving by 60"
      ],
      "metadata": {
        "colab": {
          "base_uri": "https://localhost:8080/"
        },
        "id": "khrbxWG9i3_Z",
        "outputId": "15727be7-08ad-4eeb-ec48-e978d144ada6"
      },
      "execution_count": null,
      "outputs": [
        {
          "output_type": "execute_result",
          "data": {
            "text/plain": [
              "17"
            ]
          },
          "metadata": {},
          "execution_count": 1
        }
      ]
    },
    {
      "cell_type": "markdown",
      "source": [
        "**Exercise 9 - Create a code cell to convert minutes to hours**"
      ],
      "metadata": {
        "id": "sGHMjDXa10tR"
      }
    },
    {
      "cell_type": "code",
      "source": [
        "(200/60)\n",
        "#This will convert 200 minutes to hours by diving by 60"
      ],
      "metadata": {
        "colab": {
          "base_uri": "https://localhost:8080/"
        },
        "id": "N-xgWcM1jR8M",
        "outputId": "30e71e39-4329-449b-95e2-d44a8b1c12df"
      },
      "execution_count": null,
      "outputs": [
        {
          "output_type": "execute_result",
          "data": {
            "text/plain": [
              "3.3333333333333335"
            ]
          },
          "metadata": {},
          "execution_count": 14
        }
      ]
    },
    {
      "cell_type": "markdown",
      "source": [
        "**Exercise 10 - Insert a markdown cell to list Objectives**\n",
        "\n",
        "In excercise 3."
      ],
      "metadata": {
        "id": "3bg65TT6157I"
      }
    },
    {
      "cell_type": "markdown",
      "source": [
        "**Exercise 11 - Create a markdown cell to indicate the Author's name**"
      ],
      "metadata": {
        "id": "2NFztoBt2An1"
      }
    },
    {
      "cell_type": "markdown",
      "source": [
        "<h2> Author</h2>\n",
        "Thao"
      ],
      "metadata": {
        "id": "Cia0Q-BglC0c"
      }
    }
  ]
}